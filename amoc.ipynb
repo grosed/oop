{
 "cells": [
  {
   "cell_type": "code",
   "execution_count": 65,
   "id": "74c309c2",
   "metadata": {},
   "outputs": [],
   "source": [
    "from itertools import accumulate\n",
    "import matplotlib.pyplot as plt\n",
    "from math import inf"
   ]
  },
  {
   "cell_type": "code",
   "execution_count": 16,
   "id": "f0c99aac",
   "metadata": {},
   "outputs": [],
   "source": [
    "class sumstats :\n",
    "    def __init__(self,X) :\n",
    "        self.X = X\n",
    "        self.SX = [0] + list(accumulate(X))\n",
    "        self.SXX = [0] + list(accumulate([x*x for x in X]))"
   ]
  },
  {
   "cell_type": "code",
   "execution_count": 17,
   "id": "a4709598",
   "metadata": {},
   "outputs": [],
   "source": [
    "class normal_mean :\n",
    "    def __init__(self,X) :\n",
    "        self.sumstats = sumstats(X)\n",
    "    def __call__(self,i,j) :\n",
    "        val = self.sumstats.SX[j+1] - self.sumstats.SX[i]\n",
    "        val *= val\n",
    "        val /= (j - i + 1)\n",
    "        val = -val\n",
    "        val += self.sumstats.SXX[j+1] - self.sumstats.SXX[i]\n",
    "        return val"
   ]
  },
  {
   "cell_type": "code",
   "execution_count": 111,
   "id": "6e3e5f78",
   "metadata": {},
   "outputs": [],
   "source": [
    "class functor :\n",
    "    def __init__(self) :\n",
    "        self.D = {}\n",
    "    def add(self,x,y) :\n",
    "        self.D[x] = y\n",
    "    def __call__(self,*x) :\n",
    "        return self.D[x]"
   ]
  },
  {
   "cell_type": "code",
   "execution_count": 49,
   "id": "ce062a6d",
   "metadata": {},
   "outputs": [
    {
     "data": {
      "text/plain": [
       "0"
      ]
     },
     "execution_count": 49,
     "metadata": {},
     "output_type": "execute_result"
    }
   ],
   "source": [
    "F = functor()\n",
    "F.add((0,-1),0)\n",
    "F(0,-1)"
   ]
  },
  {
   "cell_type": "code",
   "execution_count": 110,
   "id": "b8555688",
   "metadata": {},
   "outputs": [],
   "source": [
    "def amoc(f,g,a,b) :\n",
    "    cost = [g(a,b)] + [f(a,i) + g(i+1,b) for i in range(a,b)]\n",
    "    min_cost = min(cost)\n",
    "    loc = cost.index(min_cost)\n",
    "    return (min_cost,loc)"
   ]
  },
  {
   "cell_type": "code",
   "execution_count": 112,
   "id": "fe0b47cd",
   "metadata": {},
   "outputs": [
    {
     "data": {
      "image/png": "[encoded data removed]",
      "text/plain": [
       "<Figure size 640x480 with 1 Axes>"
      ]
     },
     "metadata": {},
     "output_type": "display_data"
    }
   ],
   "source": [
    "X = [0 for i in range(100)] + [1 for i in range(100)]\n",
    "plt.plot(X)\n",
    "plt.show()"
   ]
  },
  {
   "cell_type": "code",
   "execution_count": 114,
   "id": "480982f4",
   "metadata": {},
   "outputs": [],
   "source": [
    "G = normal_mean(X)\n",
    "F = functor()"
   ]
  },
  {
   "cell_type": "code",
   "execution_count": 115,
   "id": "44f99e8c",
   "metadata": {},
   "outputs": [],
   "source": [
    "min_costs = []\n",
    "locations = []\n",
    "for i in range(len(X)) :\n",
    "    min_cost,loc = amoc(F,G,0,i)\n",
    "    min_costs.append(min_cost)\n",
    "    locations.append(loc)\n",
    "    F.add((0,i),min_cost)"
   ]
  },
  {
   "cell_type": "code",
   "execution_count": 116,
   "id": "67719dc1",
   "metadata": {},
   "outputs": [
    {
     "data": {
      "text/plain": [
       "[0,\n",
       " 0,\n",
       " 0,\n",
       " 0,\n",
       " 0,\n",
       " 0,\n",
       " 0,\n",
       " 0,\n",
       " 0,\n",
       " 0,\n",
       " 0,\n",
       " 0,\n",
       " 0,\n",
       " 0,\n",
       " 0,\n",
       " 0,\n",
       " 0,\n",
       " 0,\n",
       " 0,\n",
       " 0,\n",
       " 0,\n",
       " 0,\n",
       " 0,\n",
       " 0,\n",
       " 0,\n",
       " 0,\n",
       " 0,\n",
       " 0,\n",
       " 0,\n",
       " 0,\n",
       " 0,\n",
       " 0,\n",
       " 0,\n",
       " 0,\n",
       " 0,\n",
       " 0,\n",
       " 0,\n",
       " 0,\n",
       " 0,\n",
       " 0,\n",
       " 0,\n",
       " 0,\n",
       " 0,\n",
       " 0,\n",
       " 0,\n",
       " 0,\n",
       " 0,\n",
       " 0,\n",
       " 0,\n",
       " 0,\n",
       " 0,\n",
       " 0,\n",
       " 0,\n",
       " 0,\n",
       " 0,\n",
       " 0,\n",
       " 0,\n",
       " 0,\n",
       " 0,\n",
       " 0,\n",
       " 0,\n",
       " 0,\n",
       " 0,\n",
       " 0,\n",
       " 0,\n",
       " 0,\n",
       " 0,\n",
       " 0,\n",
       " 0,\n",
       " 0,\n",
       " 0,\n",
       " 0,\n",
       " 0,\n",
       " 0,\n",
       " 0,\n",
       " 0,\n",
       " 0,\n",
       " 0,\n",
       " 0,\n",
       " 0,\n",
       " 0,\n",
       " 0,\n",
       " 0,\n",
       " 0,\n",
       " 0,\n",
       " 0,\n",
       " 0,\n",
       " 0,\n",
       " 0,\n",
       " 0,\n",
       " 0,\n",
       " 0,\n",
       " 0,\n",
       " 0,\n",
       " 0,\n",
       " 0,\n",
       " 0,\n",
       " 0,\n",
       " 0,\n",
       " 0,\n",
       " 100,\n",
       " 100,\n",
       " 100,\n",
       " 100,\n",
       " 100,\n",
       " 100,\n",
       " 100,\n",
       " 100,\n",
       " 100,\n",
       " 100,\n",
       " 100,\n",
       " 100,\n",
       " 100,\n",
       " 100,\n",
       " 100,\n",
       " 100,\n",
       " 100,\n",
       " 100,\n",
       " 100,\n",
       " 100,\n",
       " 100,\n",
       " 100,\n",
       " 100,\n",
       " 100,\n",
       " 100,\n",
       " 100,\n",
       " 100,\n",
       " 100,\n",
       " 100,\n",
       " 100,\n",
       " 100,\n",
       " 100,\n",
       " 100,\n",
       " 100,\n",
       " 100,\n",
       " 100,\n",
       " 100,\n",
       " 100,\n",
       " 100,\n",
       " 100,\n",
       " 100,\n",
       " 100,\n",
       " 100,\n",
       " 100,\n",
       " 100,\n",
       " 100,\n",
       " 100,\n",
       " 100,\n",
       " 100,\n",
       " 100,\n",
       " 100,\n",
       " 100,\n",
       " 100,\n",
       " 100,\n",
       " 100,\n",
       " 100,\n",
       " 100,\n",
       " 100,\n",
       " 100,\n",
       " 100,\n",
       " 100,\n",
       " 100,\n",
       " 100,\n",
       " 100,\n",
       " 100,\n",
       " 100,\n",
       " 100,\n",
       " 100,\n",
       " 100,\n",
       " 100,\n",
       " 100,\n",
       " 100,\n",
       " 100,\n",
       " 100,\n",
       " 100,\n",
       " 100,\n",
       " 100,\n",
       " 100,\n",
       " 100,\n",
       " 100,\n",
       " 100,\n",
       " 100,\n",
       " 100,\n",
       " 100,\n",
       " 100,\n",
       " 100,\n",
       " 100,\n",
       " 100,\n",
       " 100,\n",
       " 100,\n",
       " 100,\n",
       " 100,\n",
       " 100,\n",
       " 100,\n",
       " 100,\n",
       " 100,\n",
       " 100,\n",
       " 100,\n",
       " 100,\n",
       " 100]"
      ]
     },
     "execution_count": 116,
     "metadata": {},
     "output_type": "execute_result"
    }
   ],
   "source": [
    "locations"
   ]
  },
  {
   "cell_type": "code",
   "execution_count": null,
   "id": "1bc13afd",
   "metadata": {},
   "outputs": [],
   "source": []
  },
  {
   "cell_type": "code",
   "execution_count": null,
   "id": "77576005",
   "metadata": {},
   "outputs": [],
   "source": [
    "F = functor()\n",
    "F.add((0,-1),0)"
   ]
  },
  {
   "cell_type": "code",
   "execution_count": 44,
   "id": "114bc89f",
   "metadata": {},
   "outputs": [],
   "source": [
    "def blob(*args,y) :\n",
    "    print(args,y)"
   ]
  },
  {
   "cell_type": "code",
   "execution_count": 46,
   "id": "120a2892",
   "metadata": {},
   "outputs": [
    {
     "name": "stdout",
     "output_type": "stream",
     "text": [
      "(1, 2) 3\n"
     ]
    }
   ],
   "source": [
    "blob(1,2,y=3)"
   ]
  },
  {
   "cell_type": "code",
   "execution_count": 67,
   "id": "18c8ee93",
   "metadata": {},
   "outputs": [
    {
     "data": {
      "text/plain": [
       "[inf]"
      ]
     },
     "execution_count": 67,
     "metadata": {},
     "output_type": "execute_result"
    }
   ],
   "source": [
    "[inf] + [i for i in range(1,0)]\n"
   ]
  },
  {
   "cell_type": "code",
   "execution_count": null,
   "id": "f05adc3c",
   "metadata": {},
   "outputs": [],
   "source": []
  }
 ],
 "metadata": {
  "kernelspec": {
   "display_name": "Python 3 (ipykernel)",
   "language": "python",
   "name": "python3"
  },
  "language_info": {
   "codemirror_mode": {
    "name": "ipython",
    "version": 3
   },
   "file_extension": ".py",
   "mimetype": "text/x-python",
   "name": "python",
   "nbconvert_exporter": "python",
   "pygments_lexer": "ipython3",
   "version": "3.9.9"
  }
 },
 "nbformat": 4,
 "nbformat_minor": 5
}
