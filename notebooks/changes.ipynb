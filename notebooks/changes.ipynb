{
 "cells": [
  {
   "cell_type": "code",
   "execution_count": 207,
   "id": "5eedeb93",
   "metadata": {},
   "outputs": [],
   "source": [
    "import matplotlib.pyplot as plt\n",
    "from itertools import accumulate\n",
    "from scipy.stats import norm\n",
    "from statistics import mean,variance\n",
    "from math import sqrt,log,inf,exp\n",
    "import csv\n",
    "import time\n",
    "from sortedcontainers import SortedList as OST\n",
    "from functools import reduce"
   ]
  },
  {
   "cell_type": "markdown",
   "id": "e6db1619",
   "metadata": {},
   "source": [
    "## Background"
   ]
  },
  {
   "cell_type": "markdown",
   "id": "122d70ca",
   "metadata": {},
   "source": [
    "This notebook introduces a Python API that provides algorithms for undertaking changepoint detection in ordered univariate data sets. These core algorithms take as inputs cost functions, which in practice typically, (but not necessarily), take the form\n",
    "\n",
    "$f : \\cal{N} \\times \\cal{N} \\rightarrow \\cal{R}$ \n",
    "\n",
    "subject to the constraint $f(a,b) + f(b,c) <= f(a,c)$ where $a \\leq b \\leq c$.\n",
    "\n",
    "The API has adopted this approach so that the new cost functions can easily implemented for use with the core methods. \n",
    "\n",
    "More generally the form of the cost function is\n",
    "\n",
    "$f : X \\times X \\rightarrow Y$ where $X$ and $Y$ are sets with a sense of (total) ordering (e.g. there exists a \"< like\" relation for the sets).  "
   ]
  },
  {
   "cell_type": "markdown",
   "id": "e86fcd6b",
   "metadata": {},
   "source": [
    "### An example cost function"
   ]
  },
  {
   "cell_type": "markdown",
   "id": "16859127",
   "metadata": {},
   "source": [
    "A cost function does not necessarily have to be a python function. It only has to be a \"callable\" (\"invokable\") object (which of course includes standard Python functions). A versatile template for a such a callable object which satisfies the general requirements of the cost functions outlined previously is shown below."
   ]
  },
  {
   "cell_type": "code",
   "execution_count": 160,
   "id": "2d5c8098",
   "metadata": {},
   "outputs": [],
   "source": [
    "class cost_function :\n",
    "    def __init__(self,data) : # extra parameters can be passed here if necessary\n",
    "        pass # only present to make this template code valid Python\n",
    "        # setup function state here\n",
    "    def __call__(self,a,b) :\n",
    "        # calculate c \n",
    "        return c"
   ]
  },
  {
   "cell_type": "markdown",
   "id": "c58c7355",
   "metadata": {},
   "source": [
    "Here is a concrete example of a cost function which can be used in conjunction with the core algorithms to detect changes in mean in a data set that has an underlying uniform normal distribution. "
   ]
  },
  {
   "cell_type": "code",
   "execution_count": 173,
   "id": "f3f2ad33",
   "metadata": {},
   "outputs": [],
   "source": [
    "class normal_mean :\n",
    "    def __init__(self,X) :\n",
    "        self.X = X\n",
    "        self.SX = [0] + list(accumulate(X))\n",
    "        self.SXX = [0] + list(accumulate([x*x for x in X]))\n",
    "    def __call__(self,i,j) :\n",
    "        val = self.SX[j+1] - self.SX[i]\n",
    "        val *= val\n",
    "        val /= (j - i + 1)\n",
    "        val = -val\n",
    "        val += self.SXX[j+1] - self.SXX[i]\n",
    "        return val"
   ]
  },
  {
   "cell_type": "markdown",
   "id": "df1f0724",
   "metadata": {},
   "source": [
    "This stateful function (functor) can be used as follows."
   ]
  },
  {
   "cell_type": "markdown",
   "id": "d09b2786",
   "metadata": {},
   "source": [
    "#### generate some test data"
   ]
  },
  {
   "cell_type": "code",
   "execution_count": 183,
   "id": "7f30d0ab",
   "metadata": {},
   "outputs": [
    {
     "data": {
      "image/png": "[encoded data removed]",
      "text/plain": [
       "<Figure size 640x480 with 1 Axes>"
      ]
     },
     "metadata": {},
     "output_type": "display_data"
    }
   ],
   "source": [
    "X = [0.0 for i in range(2000)] + [1.0 for i in range(1000)]\n",
    "E = norm.rvs(size=len(X))\n",
    "Z = [x+e for x,e in zip(X,E)]\n",
    "mu = mean(Z)\n",
    "sigma = sqrt(variance(Z))\n",
    "Z = [(z-mu)/sigma for z in Z] # normalise the data\n",
    "plt.plot(Z)\n",
    "plt.show()"
   ]
  },
  {
   "cell_type": "markdown",
   "id": "ec3042e4",
   "metadata": {},
   "source": [
    "#### instantiate the functor"
   ]
  },
  {
   "cell_type": "code",
   "execution_count": 184,
   "id": "b874e44d",
   "metadata": {},
   "outputs": [],
   "source": [
    "f = normal_mean(Z)"
   ]
  },
  {
   "cell_type": "markdown",
   "id": "044f9b31",
   "metadata": {},
   "source": [
    "#### call the functor"
   ]
  },
  {
   "cell_type": "code",
   "execution_count": 185,
   "id": "cf1276b1",
   "metadata": {},
   "outputs": [
    {
     "data": {
      "text/plain": [
       "9.03890449900895"
      ]
     },
     "execution_count": 185,
     "metadata": {},
     "output_type": "execute_result"
    }
   ],
   "source": [
    "f(10,27)"
   ]
  },
  {
   "cell_type": "markdown",
   "id": "456dee44",
   "metadata": {},
   "source": [
    "#### demonstrate a basic characteristic of the cost function"
   ]
  },
  {
   "cell_type": "code",
   "execution_count": 186,
   "id": "d751d43f",
   "metadata": {},
   "outputs": [
    {
     "data": {
      "text/plain": [
       "True"
      ]
     },
     "execution_count": 186,
     "metadata": {},
     "output_type": "execute_result"
    }
   ],
   "source": [
    "f(0,9) + f(10,19) <= f(0,20)\n"
   ]
  },
  {
   "cell_type": "markdown",
   "id": "58c53566",
   "metadata": {},
   "source": [
    "#### visualise the cost function"
   ]
  },
  {
   "cell_type": "code",
   "execution_count": 187,
   "id": "227e52b4",
   "metadata": {},
   "outputs": [
    {
     "data": {
      "text/plain": [
       "[<matplotlib.lines.Line2D at 0x7f0efeb898b0>]"
      ]
     },
     "execution_count": 187,
     "metadata": {},
     "output_type": "execute_result"
    },
    {
     "data": {
      "image/png": "[encoded data removed]",
      "text/plain": [
       "<Figure size 640x480 with 1 Axes>"
      ]
     },
     "metadata": {},
     "output_type": "display_data"
    }
   ],
   "source": [
    "plt.plot([f(i,len(Z)-1) for i in range(len(Z))])"
   ]
  },
  {
   "cell_type": "markdown",
   "id": "08c9f4da",
   "metadata": {},
   "source": [
    "Notice that in this setting the data being studied becomes a parameter of the cost function. The core algorithms that are introduced shortly are only \"aware\" of the cost functions and not the underlying data."
   ]
  },
  {
   "cell_type": "markdown",
   "id": "f61293f1",
   "metadata": {},
   "source": [
    "## Core algorithms"
   ]
  },
  {
   "cell_type": "markdown",
   "id": "56d2629c",
   "metadata": {},
   "source": [
    "### split"
   ]
  },
  {
   "cell_type": "markdown",
   "id": "2ce6e009",
   "metadata": {},
   "source": [
    "The first core algorithm, **split**, is quite primitive (and simple) but forms the basis for most of the other algorithms.\n",
    "\n",
    "$split : (\\cal{N} \\times \\cal{N} \\rightarrow \\cal{R},\\cal{N} \\times \\cal{N} \\rightarrow \\cal{R},S \\subset{\\cal{}N}) \\rightarrow \\cal{N} \\times \\cal{R}$\n",
    "\n",
    "In other words, $f$ and $g$ are cost functions and $S$ is a set of natural numbers.\n",
    "\n",
    "More specifically, for $f,g \\in \\cal{N} \\times \\cal{N} \\rightarrow \\cal{R}$ and $S$, split returns a tuple $(k,c)$ where $k \\in S$ is such that $f(\\min(S),k) + g(k,\\max(S)) = c$ is minimized.  \n",
    "\n",
    "More concretely."
   ]
  },
  {
   "cell_type": "code",
   "execution_count": 177,
   "id": "e7acc9df",
   "metadata": {},
   "outputs": [],
   "source": [
    "def split(f,g,R) :\n",
    "    ra,rb = min(R),max(R)\n",
    "    return min([(r,f(ra,r) + g(r,rb)) for r in R],key = lambda x : x[1])\n",
    "    "
   ]
  },
  {
   "cell_type": "markdown",
   "id": "e49732bd",
   "metadata": {},
   "source": [
    "If the computational complexities of $f$ and $g$ are $\\cal{O}(f)$ and  $\\cal{O}(g)$ respectively, then the complexity of split is $\\cal{O}(|S|) \\times \\max(\\cal{O}(f),\\cal{O}(g))$"
   ]
  },
  {
   "cell_type": "markdown",
   "id": "483415c9",
   "metadata": {},
   "source": [
    "#### finding a changepoint with split"
   ]
  },
  {
   "cell_type": "markdown",
   "id": "f33e008b",
   "metadata": {},
   "source": [
    "A single changepoint may be located using split by setting $g$ = $f$ and $S = {\\rm dom}(f)$."
   ]
  },
  {
   "cell_type": "code",
   "execution_count": 192,
   "id": "6a65394e",
   "metadata": {},
   "outputs": [
    {
     "data": {
      "text/plain": [
       "(1994, 2441.8996131796307)"
      ]
     },
     "execution_count": 192,
     "metadata": {},
     "output_type": "execute_result"
    }
   ],
   "source": [
    "S = list(range(len(Z)))\n",
    "split(f,f,S)"
   ]
  },
  {
   "cell_type": "markdown",
   "id": "41824df7",
   "metadata": {},
   "source": [
    "Which can be confirmed visually."
   ]
  },
  {
   "cell_type": "code",
   "execution_count": 195,
   "id": "5d8e6606",
   "metadata": {},
   "outputs": [
    {
     "data": {
      "text/plain": [
       "[<matplotlib.lines.Line2D at 0x7f0efe4a5f70>]"
      ]
     },
     "execution_count": 195,
     "metadata": {},
     "output_type": "execute_result"
    },
    {
     "data": {
      "image/png": "[encoded data removed]",
      "text/plain": [
       "<Figure size 640x480 with 1 Axes>"
      ]
     },
     "metadata": {},
     "output_type": "display_data"
    }
   ],
   "source": [
    "plt.plot([f(min(S),i) + f(i,max(S)) for i in S])"
   ]
  },
  {
   "cell_type": "markdown",
   "id": "47239aa4",
   "metadata": {},
   "source": [
    "Note that the split algorithm is not \"aware\" of the underlying data - only the cost functions and a subset of the cost functions domain."
   ]
  },
  {
   "cell_type": "markdown",
   "id": "2796b14c",
   "metadata": {},
   "source": [
    "### amoc"
   ]
  },
  {
   "cell_type": "markdown",
   "id": "71d60d9d",
   "metadata": {},
   "source": [
    "The core algorithm **amoc** employs split to find a single changepoint subject to a threshold (penalty) being satisfied.\n",
    "\n",
    "$amoc : (\\cal{N} \\times \\cal{N} \\rightarrow \\cal{R},S \\subset{\\cal{}N},\\cal{R}) \\rightarrow \\cal{N} \\times \\cal{R}$\n",
    "\n",
    "More specifically, if $(k,c) = {\\rm split}(g,g,S)$ then ${\\rm amoc}(g,S,\\beta) = (k,c+\\beta)$ if $g(\\min(S),\\max(S)) - c > \\beta$ or $(0,g(\\min(S),\\max(S))$ otherwise.\n",
    "\n",
    "More concretely."
   ]
  },
  {
   "cell_type": "code",
   "execution_count": 196,
   "id": "506082f8",
   "metadata": {},
   "outputs": [],
   "source": [
    "def amoc(g,R,beta) :\n",
    "    def f(i,j) : return 0 if i == j else g(i,j-1) + beta\n",
    "    return split(f,g,R)\n",
    "    "
   ]
  },
  {
   "cell_type": "markdown",
   "id": "cda35420",
   "metadata": {},
   "source": [
    "Notice that, internally, amoc defines a new cost function $f$ in terms of the user defined cost function $g$."
   ]
  },
  {
   "cell_type": "markdown",
   "id": "5ee66ee1",
   "metadata": {},
   "source": [
    "It follows from the analysis of split that the  complexity of amoc is $\\cal{O}(|S|) \\cal{O}(f)$"
   ]
  },
  {
   "cell_type": "markdown",
   "id": "c52890fa",
   "metadata": {},
   "source": [
    "####  using amoc"
   ]
  },
  {
   "cell_type": "code",
   "execution_count": 199,
   "id": "31eac58b",
   "metadata": {},
   "outputs": [
    {
     "data": {
      "text/plain": [
       "(1994, 2457.6307570304825)"
      ]
     },
     "execution_count": 199,
     "metadata": {},
     "output_type": "execute_result"
    }
   ],
   "source": [
    "beta = 2*log(len(S)) # a good choice for beta\n",
    "amoc(f,S,beta)"
   ]
  },
  {
   "cell_type": "code",
   "execution_count": 201,
   "id": "f12d8232",
   "metadata": {},
   "outputs": [
    {
     "data": {
      "text/plain": [
       "(0, 2998.9999999999955)"
      ]
     },
     "execution_count": 201,
     "metadata": {},
     "output_type": "execute_result"
    }
   ],
   "source": [
    "beta = inf # prevent changepoint detection\n",
    "amoc(f,S,beta)"
   ]
  },
  {
   "cell_type": "markdown",
   "id": "d69c55f6",
   "metadata": {},
   "source": [
    "### op"
   ]
  },
  {
   "cell_type": "markdown",
   "id": "15144aa0",
   "metadata": {},
   "source": [
    "The core method **op** is (a somewhat generalised version of) the optimal partitioning algorithm **\\[1\\]**\n",
    "\n",
    "$op : (\\cal{N} \\times \\cal{N} \\rightarrow \\cal{R},S \\subset{\\cal{}N},\\cal{R}_{\\geq 0}) \\rightarrow (\\cal{N} \\rightarrow (\\cal{N} \\times \\cal{R}))$\n",
    "\n",
    "More specifically"
   ]
  },
  {
   "cell_type": "code",
   "execution_count": 203,
   "id": "725539ba",
   "metadata": {},
   "outputs": [],
   "source": [
    "def op(g,R,beta) :\n",
    "    class functor :\n",
    "        def __init__(self) :\n",
    "            self.D = {}\n",
    "        def add(self,x,y) :\n",
    "            self.D[x] = y\n",
    "        def __call__(self,*arg) :\n",
    "            _,x = arg\n",
    "            return self.D[x]\n",
    "    f = functor()\n",
    "    ra = min(R)\n",
    "    T = []\n",
    "    segmentation = {}\n",
    "    cost = -beta\n",
    "    for r in R :\n",
    "        f.add(r,cost + beta)\n",
    "        T.append(r)\n",
    "        index,cost = split(f,g,T)\n",
    "        segmentation[r] = (index,cost)\n",
    "    return segmentation"
   ]
  },
  {
   "cell_type": "markdown",
   "id": "b5232ed0",
   "metadata": {},
   "source": [
    "$g : \\cal{N} \\times \\cal{N} \\rightarrow \\cal{R}$ \\\n",
    "$R$ an ordered subset of $\\cal{N}$ \\\n",
    "$\\beta \\in \\cal{R}_{\\geq 0}$ \\\n",
    "\\\n",
    "$s \\leftarrow f \\leftarrow \\{\\}$ \\\n",
    "$c \\leftarrow -\\beta$ \\\n",
    "$T \\leftarrow \\left[\\right]$ &nbsp;&nbsp;&nbsp;&nbsp;&nbsp;&nbsp;&nbsp;&nbsp; _where_ $[]$ _is the empty ordered set_ \\\n",
    "for $r \\in R$ \\\n",
    "&nbsp;&nbsp;&nbsp;&nbsp;$f \\leftarrow f \\cup \\{(c + \\beta)\\}$ \\\n",
    "&nbsp;&nbsp;&nbsp;&nbsp;$T \\leftarrow T \\cup [r]$ \\\n",
    "&nbsp;&nbsp;&nbsp;&nbsp;$(k,c) \\leftarrow {\\rm split}(f,g,R)$ \\\n",
    "&nbsp;&nbsp;&nbsp;&nbsp;$s \\leftarrow s \\cup \\{(k,c)\\}$\n",
    "\n",
    "\n"
   ]
  },
  {
   "cell_type": "code",
   "execution_count": 202,
   "id": "4acd3aeb",
   "metadata": {},
   "outputs": [],
   "source": [
    "def op(g,R,beta,prune) :\n",
    "    class functor :\n",
    "        def __init__(self) :\n",
    "            self.D = {}\n",
    "        def add(self,x,y) :\n",
    "            self.D[x] = y\n",
    "        def __call__(self,*arg) :\n",
    "            _,x = arg\n",
    "            return self.D[x]\n",
    "    f = functor()\n",
    "    ra = min(R)\n",
    "    T = []\n",
    "    segmentation = {}\n",
    "    cost = -beta\n",
    "    for r in R :\n",
    "        f.add(r,cost + beta)\n",
    "        T.append(r)\n",
    "        if prune :\n",
    "            T = [t for t in T if f(ra,t) + g(t,r) <= f(ra,r) + beta]\n",
    "        index,cost = split(f,g,T)\n",
    "        segmentation[r] = (index,cost)\n",
    "    return segmentationcupcup\n",
    "    "
   ]
  },
  {
   "cell_type": "code",
   "execution_count": 5,
   "id": "45c8ef01",
   "metadata": {},
   "outputs": [],
   "source": [
    "def pelt(g,R,beta) :\n",
    "    return op(g,R,beta,True)"
   ]
  },
  {
   "cell_type": "code",
   "execution_count": 114,
   "id": "5e721024",
   "metadata": {},
   "outputs": [],
   "source": [
    "def changepoints(segmentations,rb = None) :\n",
    "    ra = min(segmentations)\n",
    "    if rb == None :\n",
    "        rb = max(segmentations)\n",
    "    index = rb\n",
    "    locations = []\n",
    "    while index != ra :\n",
    "        index,_ = segmentations[index]\n",
    "        locations.append(index)\n",
    "    return locations"
   ]
  },
  {
   "cell_type": "code",
   "execution_count": 7,
   "id": "9d22d136",
   "metadata": {},
   "outputs": [],
   "source": [
    "class sumstats :\n",
    "    def __init__(self,X) :\n",
    "        self.X = X\n",
    "        self.SX = [0] + list(accumulate(X))\n",
    "        self.SXX = [0] + list(accumulate([x*x for x in X]))"
   ]
  },
  {
   "cell_type": "code",
   "execution_count": 8,
   "id": "31cafba8",
   "metadata": {},
   "outputs": [],
   "source": [
    "class normal_mean :\n",
    "    def __init__(self,X) :\n",
    "        self.sumstats = sumstats(X)\n",
    "    def __call__(self,i,j) :\n",
    "        val = self.sumstats.SX[j+1] - self.sumstats.SX[i]\n",
    "        val *= val\n",
    "        val /= (j - i + 1)\n",
    "        val = -val\n",
    "        val += self.sumstats.SXX[j+1] - self.sumstats.SXX[i]\n",
    "        return val"
   ]
  },
  {
   "cell_type": "code",
   "execution_count": 9,
   "id": "728cf93c",
   "metadata": {},
   "outputs": [],
   "source": [
    "X = [0.0 for i in range(1000)] + [1.0 for i in range(1000)] \n",
    "E = norm.rvs(size=len(X))\n",
    "Z = [x+e for x,e in zip(X,E)]\n",
    "#mu = mean(Z)\n",
    "#sigma = sqrt(variance(Z))\n",
    "#Z = [(z-mu)/sigma for z in Z]\n",
    "#plt.plot(Z)\n",
    "#plt.show()"
   ]
  },
  {
   "cell_type": "code",
   "execution_count": 17,
   "id": "dbd27f41",
   "metadata": {},
   "outputs": [
    {
     "data": {
      "text/plain": [
       "(1001, 2066.495941060478)"
      ]
     },
     "execution_count": 17,
     "metadata": {},
     "output_type": "execute_result"
    }
   ],
   "source": [
    "g = normal_mean(Z)\n",
    "amoc(g,list(range(len(Z))),2*log(len(Z)))"
   ]
  },
  {
   "cell_type": "code",
   "execution_count": 11,
   "id": "9ffcd6e2",
   "metadata": {},
   "outputs": [
    {
     "data": {
      "image/png": "[encoded data removed]",
      "text/plain": [
       "<Figure size 640x480 with 1 Axes>"
      ]
     },
     "metadata": {},
     "output_type": "display_data"
    }
   ],
   "source": [
    "X = [0.0 for i in range(1000)] + [1.0 for i in range(1000)] + [0.0 for i in range(1000)]\n",
    "E = norm.rvs(size=len(X))\n",
    "Z = [x+e for x,e in zip(X,E)]\n",
    "mu = mean(Z)\n",
    "sigma = sqrt(variance(Z))\n",
    "Z = [(z-mu)/sigma for z in Z]\n",
    "plt.plot(Z)\n",
    "plt.show()"
   ]
  },
  {
   "cell_type": "code",
   "execution_count": 12,
   "id": "f1b9174f",
   "metadata": {},
   "outputs": [
    {
     "name": "stdout",
     "output_type": "stream",
     "text": [
      "[2001, 996, 0]\n",
      "3.415971000213176\n"
     ]
    }
   ],
   "source": [
    "g = normal_mean(Z)\n",
    "start =  time.perf_counter()\n",
    "res = op(g,list(range(len(Z))),2*log(len(Z)))\n",
    "end =  time.perf_counter()\n",
    "print(changepoints(res))\n",
    "print(end-start)"
   ]
  },
  {
   "cell_type": "code",
   "execution_count": 13,
   "id": "fca67a18",
   "metadata": {},
   "outputs": [
    {
     "name": "stdout",
     "output_type": "stream",
     "text": [
      "[2001, 996, 0]\n",
      "2.721504464978352\n"
     ]
    }
   ],
   "source": [
    "g = normal_mean(Z)\n",
    "start =  time.perf_counter()\n",
    "res = pelt(g,list(range(len(Z))),2*log(len(Z)))\n",
    "end =  time.perf_counter()\n",
    "print(changepoints(res))\n",
    "print(end-start)"
   ]
  },
  {
   "cell_type": "code",
   "execution_count": 52,
   "id": "830a2825",
   "metadata": {},
   "outputs": [
    {
     "name": "stdout",
     "output_type": "stream",
     "text": [
      "-3.9863529867114243e-17 1.0\n"
     ]
    }
   ],
   "source": [
    "file = open(\"X.csv\", \"r\")\n",
    "X = list(csv.reader(file, delimiter=\",\"))\n",
    "X = [float(item) for sublist in X for item in sublist]\n",
    "file.close()\n",
    "print(mean(X),sqrt(variance(X)))"
   ]
  },
  {
   "cell_type": "code",
   "execution_count": 53,
   "id": "b145c79d",
   "metadata": {},
   "outputs": [
    {
     "data": {
      "image/png": "[encoded data removed]",
      "text/plain": [
       "<Figure size 640x480 with 1 Axes>"
      ]
     },
     "metadata": {},
     "output_type": "display_data"
    }
   ],
   "source": [
    "plt.plot(X)\n",
    "plt.show()"
   ]
  },
  {
   "cell_type": "code",
   "execution_count": 57,
   "id": "d2b9bde3",
   "metadata": {},
   "outputs": [
    {
     "data": {
      "text/plain": [
       "(1024, 2973.3114425626513)"
      ]
     },
     "execution_count": 57,
     "metadata": {},
     "output_type": "execute_result"
    }
   ],
   "source": [
    "g = normal_mean(X)\n",
    "g(1,3)\n",
    "g(0,0)\n",
    "g(len(X)-1,len(X)-1)\n",
    "split(g,g,list(range(len(X))))"
   ]
  },
  {
   "cell_type": "code",
   "execution_count": 16,
   "id": "7ea53cc8",
   "metadata": {},
   "outputs": [
    {
     "name": "stdout",
     "output_type": "stream",
     "text": [
      "[1933, 1025, 0]\n",
      "2.8561626009177417\n"
     ]
    }
   ],
   "source": [
    "g = normal_mean(X)\n",
    "start =  time.perf_counter()\n",
    "res = op(g,list(range(len(X))),2*log(len(X)))\n",
    "end =  time.perf_counter()\n",
    "print(changepoints(res))\n",
    "print(end - start)"
   ]
  },
  {
   "cell_type": "code",
   "execution_count": 17,
   "id": "28dc48c5",
   "metadata": {},
   "outputs": [
    {
     "name": "stdout",
     "output_type": "stream",
     "text": [
      "[1933, 1025, 0]\n",
      "4.567221871111542\n"
     ]
    }
   ],
   "source": [
    "g = normal_mean(X)\n",
    "start =  time.perf_counter()\n",
    "res = pelt(g,list(range(len(X))),2*log(len(X)))\n",
    "end =  time.perf_counter()\n",
    "print(changepoints(res))\n",
    "print(end - start)"
   ]
  },
  {
   "cell_type": "code",
   "execution_count": null,
   "id": "b40bfd28",
   "metadata": {},
   "outputs": [],
   "source": []
  },
  {
   "cell_type": "code",
   "execution_count": 18,
   "id": "4b5d0b29",
   "metadata": {},
   "outputs": [],
   "source": [
    "import numpy as np\n",
    "\n",
    "import matplotlib.pyplot as plt\n",
    "\n",
    "from scipy import stats\n",
    "\n",
    "rng = np.random.default_rng()"
   ]
  },
  {
   "cell_type": "code",
   "execution_count": 19,
   "id": "fd4e51a0",
   "metadata": {},
   "outputs": [],
   "source": [
    "X1 = list(range(200))\n",
    "E1 = norm.rvs(size=len(X1))\n",
    "a1 = 1.6\n",
    "b1 = 2\n",
    "Y1 = [a1*x + b1 + e for x,e in zip(X1,E1)]\n",
    "X2 = [x + len(X1) for x in X1]\n",
    "E2 = norm.rvs(size=len(X2))\n",
    "a2 = 1.0\n",
    "b2 = (a1-a2)*X1[-1] + b1 \n",
    "Y2 = [a2*x + b2 + e for x,e in zip(X2,E2)]\n",
    "X = X1 + X2\n",
    "Y = Y1 + Y2\n"
   ]
  },
  {
   "cell_type": "code",
   "execution_count": 20,
   "id": "c347c9da",
   "metadata": {},
   "outputs": [],
   "source": [
    "res = stats.linregress(X, Y)\n",
    "Y_hat = [res.slope*x + res.intercept for x in X]"
   ]
  },
  {
   "cell_type": "code",
   "execution_count": 21,
   "id": "0c6264ec",
   "metadata": {},
   "outputs": [
    {
     "data": {
      "image/png": "[encoded data removed]",
      "text/plain": [
       "<Figure size 640x480 with 1 Axes>"
      ]
     },
     "metadata": {},
     "output_type": "display_data"
    }
   ],
   "source": [
    "plt.plot(X, Y, 'o', label='original data')\n",
    "\n",
    "plt.plot(X, Y_hat, 'r', label='fitted line')\n",
    "\n",
    "plt.legend()\n",
    "\n",
    "plt.show()"
   ]
  },
  {
   "cell_type": "code",
   "execution_count": 22,
   "id": "6084ad52",
   "metadata": {},
   "outputs": [
    {
     "data": {
      "text/plain": [
       "LinregressResult(slope=1.2989379955833804, intercept=31.846230245158438, rvalue=0.9933403397426972, pvalue=0.0, stderr=0.0075520625262702964, intercept_stderr=1.7408036527128457)"
      ]
     },
     "execution_count": 22,
     "metadata": {},
     "output_type": "execute_result"
    }
   ],
   "source": [
    "res"
   ]
  },
  {
   "cell_type": "code",
   "execution_count": 23,
   "id": "8f7aac6a",
   "metadata": {},
   "outputs": [],
   "source": [
    "class linear :\n",
    "    def __init__(self,X,Y) :\n",
    "        self.X = X\n",
    "        self.Y = Y\n",
    "    def __call__(self,i,j) :\n",
    "        if i ==j :\n",
    "            return inf\n",
    "        regression = stats.linregress(self.X[i:(j+1)],self.Y[i:(j+1)])\n",
    "        a = regression.slope\n",
    "        b = regression.intercept\n",
    "        return sum([(y - a*x - b)*(y - a*x - b) for x,y in zip(self.X[i:(j+1)],self.Y[i:(j+1)])])"
   ]
  },
  {
   "cell_type": "code",
   "execution_count": 24,
   "id": "396d17d9",
   "metadata": {},
   "outputs": [
    {
     "name": "stdout",
     "output_type": "stream",
     "text": [
      "[378, 356, 203, 202, 0]\n",
      "8.220623875036836\n"
     ]
    }
   ],
   "source": [
    "g = linear(X,Y)\n",
    "start =  time.perf_counter()\n",
    "res = op(g,list(range(len(X))),2*log(len(X)))\n",
    "end =  time.perf_counter()\n",
    "print(changepoints(res))\n",
    "print(end - start)"
   ]
  },
  {
   "cell_type": "code",
   "execution_count": 191,
   "id": "2768d7d0",
   "metadata": {},
   "outputs": [],
   "source": [
    "class eCDFfh :\n",
    "    def __init__(self,X,k) :\n",
    "        def quantiles(T,k) :\n",
    "            # this function computes k quantiles in data from a window of size n\n",
    "            # the expression for the probabilities is taken from Zou (2014) and \n",
    "            # Haynes (2017) and is designed to add emphasis to the tails of the \n",
    "            # probability distribution. Both authors show doing so increases power.\n",
    "            # data is the data to use for computing the quantiles\n",
    "            # k is the number of quantiles and n is the window size\n",
    "            n = len(T)\n",
    "            def quantile(prob) :\n",
    "                #this function works out the quantile value\n",
    "                #it uses linear interpolation, ie quantile type = 7\n",
    "                h = (n - 1) * prob\n",
    "                h_floor = int(h)\n",
    "                if h_floor == h:\n",
    "                    return T[h]\n",
    "                else:\n",
    "                    non_int_part = h - h_floor \n",
    "                    lower = T[h_floor]\n",
    "                    upper = T[h_floor + 1]\n",
    "                    return lower + non_int_part * (upper - lower)\n",
    "            c = log(2*n-1)   # weight as in Zou (2014)\n",
    "            probs = [(1/(1+(2*(n-1)*exp((-c/k)*(2*i-1))))) for i in range(k)]\n",
    "            return [quantile(p) for p in probs]    \n",
    "        \n",
    "        def eCDF(T,Q):    \n",
    "            # used to return value of eCDF, not cost, at a given quantile  \n",
    "            # data is the tree of data used to compute the ecdf\n",
    "            # quantile is the numeric quantile value\n",
    "            vals = []\n",
    "            for q in Q :\n",
    "                left = T.bisect_left(q)\n",
    "                right = T.bisect_right(q)\n",
    "                # value is number of points to left of quantile, plus 0.5 times\n",
    "                # the points equal to the quantile\n",
    "                vals.append((left+0.5*(right-left))/len(T))\n",
    "            return vals\n",
    "        \n",
    "        def cost(cdf_vals,w):\n",
    "            #function for computing the likelihood function\n",
    "            #cdf_val is the value of the eCDF at a set quantile\n",
    "            #seg_len is the length of the data used\n",
    "            val = 0.0\n",
    "            for cdf_val in cdf_vals : \n",
    "                if(cdf_val > 0 and cdf_val < 1):\n",
    "                    conj = 1 - cdf_val\n",
    "                    val += w * (cdf_val * log(cdf_val) - conj * log(conj))\n",
    "            return(val)\n",
    "        \n",
    "        \n",
    "        self.n = len(X)\n",
    "        self.X = X\n",
    "        self.T = OST(X)\n",
    "        self.k = k\n",
    "        # determine quantiles\n",
    "        self.Q = quantiles(self.T,self.k)\n",
    "        # determine eCDF\n",
    "        self.L = {}\n",
    "        for j in range(self.n) :\n",
    "            self.T = OST(self.X[:(j+1)])\n",
    "            for i in range(j+1) :\n",
    "                self.L[(i,j)] = cost(eCDF(self.T,self.Q),self.n)\n",
    "                self.T.remove(self.X[i])\n",
    "                \n",
    "    def __call__(self,i,j) :\n",
    "        return self.L[(i,j)]\n",
    "        \n",
    "        \n",
    "        "
   ]
  },
  {
   "cell_type": "code",
   "execution_count": 196,
   "id": "117a1080",
   "metadata": {},
   "outputs": [],
   "source": [
    "g = eCDFfh(Z,8)"
   ]
  },
  {
   "cell_type": "code",
   "execution_count": 189,
   "id": "1b2b0079",
   "metadata": {},
   "outputs": [],
   "source": [
    "R = list(range(len(Z)))\n",
    "res = op(g,R,64*log(len(Z)))"
   ]
  },
  {
   "cell_type": "code",
   "execution_count": 190,
   "id": "e2689975",
   "metadata": {},
   "outputs": [
    {
     "data": {
      "text/plain": [
       "(1995, -184.9680997275845)"
      ]
     },
     "execution_count": 190,
     "metadata": {},
     "output_type": "execute_result"
    }
   ],
   "source": [
    "res[1999]"
   ]
  },
  {
   "cell_type": "code",
   "execution_count": 180,
   "id": "458ae4fe",
   "metadata": {},
   "outputs": [
    {
     "ename": "KeyboardInterrupt",
     "evalue": "",
     "output_type": "error",
     "traceback": [
      "\u001b[0;31m---------------------------------------------------------------------------\u001b[0m",
      "\u001b[0;31mKeyboardInterrupt\u001b[0m                         Traceback (most recent call last)",
      "Cell \u001b[0;32mIn [180], line 1\u001b[0m\n\u001b[0;32m----> 1\u001b[0m \u001b[43mchangepoints\u001b[49m\u001b[43m(\u001b[49m\u001b[43mres\u001b[49m\u001b[43m)\u001b[49m\n",
      "Cell \u001b[0;32mIn [6], line 7\u001b[0m, in \u001b[0;36mchangepoints\u001b[0;34m(segmentations)\u001b[0m\n\u001b[1;32m      5\u001b[0m locations \u001b[38;5;241m=\u001b[39m []\n\u001b[1;32m      6\u001b[0m \u001b[38;5;28;01mwhile\u001b[39;00m index \u001b[38;5;241m!=\u001b[39m ra :\n\u001b[0;32m----> 7\u001b[0m     index,_ \u001b[38;5;241m=\u001b[39m \u001b[43msegmentations\u001b[49m\u001b[43m[\u001b[49m\u001b[43mindex\u001b[49m\u001b[43m]\u001b[49m\n\u001b[1;32m      8\u001b[0m     locations\u001b[38;5;241m.\u001b[39mappend(index)\n\u001b[1;32m      9\u001b[0m \u001b[38;5;28;01mreturn\u001b[39;00m locations\n",
      "\u001b[0;31mKeyboardInterrupt\u001b[0m: "
     ]
    }
   ],
   "source": [
    "changepoints(res)"
   ]
  },
  {
   "cell_type": "code",
   "execution_count": 197,
   "id": "faa266b8",
   "metadata": {},
   "outputs": [
    {
     "data": {
      "text/plain": [
       "[<matplotlib.lines.Line2D at 0x7fed2ed4bbb0>]"
      ]
     },
     "execution_count": 197,
     "metadata": {},
     "output_type": "execute_result"
    },
    {
     "data": {
      "image/png": "[encoded data removed]",
      "text/plain": [
       "<Figure size 640x480 with 1 Axes>"
      ]
     },
     "metadata": {},
     "output_type": "display_data"
    }
   ],
   "source": [
    "\n",
    "cost = [g(0,i) + g(i+1,1999) for i in range(len(Z)-1)]\n",
    "plt.plot(cost)\n",
    "    "
   ]
  },
  {
   "cell_type": "code",
   "execution_count": 160,
   "id": "3ea3e724",
   "metadata": {},
   "outputs": [
    {
     "data": {
      "text/plain": [
       "15.201804919084164"
      ]
     },
     "execution_count": 160,
     "metadata": {},
     "output_type": "execute_result"
    }
   ],
   "source": [
    "2*log(len(X))"
   ]
  },
  {
   "cell_type": "code",
   "execution_count": 166,
   "id": "6ec9bfb1",
   "metadata": {},
   "outputs": [
    {
     "name": "stdout",
     "output_type": "stream",
     "text": [
      "18.4176633926834 -2.385781198510511\n"
     ]
    }
   ],
   "source": [
    "print(g(0,1999),min(cost))\n"
   ]
  },
  {
   "cell_type": "code",
   "execution_count": 11,
   "id": "8f0e7aa5",
   "metadata": {},
   "outputs": [],
   "source": [
    "class npConditional :\n",
    "    def __init__(self,X,Q) :\n",
    "        # Note - this initialisation is O(len(X))\n",
    "        self.n = len(X)\n",
    "        k = len(Q)\n",
    "        # Calculate summary statistics\n",
    "        self.S = {-1 : tuple((k-1)*[0])}\n",
    "        for i in range(self.n) :\n",
    "            self.S[i] = tuple([int(X[i] > a and X[i] <= b) for a,b in zip(Q[:-1],Q[1:])])\n",
    "        for i in range(self.n) :\n",
    "            self.S[i] = tuple([self.S[i][j] + self.S[i-1][j] for j in range(k-1)])\n",
    "        \n",
    "    def getS(self) :\n",
    "        return self.S\n",
    "    def __call__(self,i,j) :\n",
    "        # Note - this evaluation is O(len(Q))\n",
    "        t = j - i + 1\n",
    "        M = [a-b for a,b in zip(self.S[j],self.S[i])]\n",
    "        return sum([-m*log(m/t) for m in M if m != 0 and m != t])\n",
    "        \n",
    "        \n",
    "                    \n",
    "            \n",
    "        "
   ]
  },
  {
   "cell_type": "code",
   "execution_count": 41,
   "id": "9bc13871",
   "metadata": {},
   "outputs": [],
   "source": [
    "def quantiles(X,K) :\n",
    "    n = len(X)\n",
    "    X_sorted = sorted(X)\n",
    "    c = -log(2*n-1)\n",
    "    pK = [(1+exp(c*(-1+2*(k+1)/K-1/K)))**-1 for k in range(K)]\n",
    "    I = [int((n-1)*p) for p in pK]\n",
    "    return [-inf] + [X_sorted[i] for i in I] + [inf]\n",
    "\n",
    "def penalty(X,Q,threshold) :\n",
    "    k = len(Q) - 2\n",
    "    n = len(X)\n",
    "    return k + 2*sqrt(k*threshold*log(n)) + 2*threshold*log(n)\n",
    "    \n",
    "    \n",
    "    "
   ]
  },
  {
   "cell_type": "code",
   "execution_count": 26,
   "id": "15cac503",
   "metadata": {},
   "outputs": [],
   "source": [
    "K = 24\n",
    "Q = quantiles(Z,K)\n",
    "beta = penalty(Z,Q,0.01)\n",
    "n = len(Z)\n",
    "R = list(range(n))\n",
    "g = npConditional(Z,Q)"
   ]
  },
  {
   "cell_type": "code",
   "execution_count": 31,
   "id": "d204a989",
   "metadata": {},
   "outputs": [
    {
     "data": {
      "text/plain": [
       "1001"
      ]
     },
     "execution_count": 31,
     "metadata": {},
     "output_type": "execute_result"
    },
    {
     "data": {
      "image/png": "[encoded data removed]",
      "text/plain": [
       "<Figure size 640x480 with 1 Axes>"
      ]
     },
     "metadata": {},
     "output_type": "display_data"
    }
   ],
   "source": [
    "C = [g(0,i) + g(i,n-1) for i in range(n)]\n",
    "plt.plot(C)\n",
    "C.index(min(C))"
   ]
  },
  {
   "cell_type": "code",
   "execution_count": 32,
   "id": "d80ef3ec",
   "metadata": {},
   "outputs": [],
   "source": [
    "res = pelt(g,R,beta)"
   ]
  },
  {
   "cell_type": "code",
   "execution_count": 33,
   "id": "46cfdf2a",
   "metadata": {},
   "outputs": [
    {
     "data": {
      "text/plain": [
       "[1002, 0]"
      ]
     },
     "execution_count": 33,
     "metadata": {},
     "output_type": "execute_result"
    }
   ],
   "source": [
    "changepoints(res)"
   ]
  },
  {
   "cell_type": "code",
   "execution_count": 47,
   "id": "fa2054df",
   "metadata": {},
   "outputs": [
    {
     "name": "stdout",
     "output_type": "stream",
     "text": [
      "0.5118908759583684 1.0939846232337178\n"
     ]
    }
   ],
   "source": [
    "file = open(\"Y.csv\", \"r\")\n",
    "Y = list(csv.reader(file, delimiter=\",\"))\n",
    "Y = [float(item) for sublist in Y for item in sublist]\n",
    "file.close()\n",
    "print(mean(Y),sqrt(variance(Y)))"
   ]
  },
  {
   "cell_type": "code",
   "execution_count": 48,
   "id": "9cf46c2b",
   "metadata": {},
   "outputs": [],
   "source": [
    "K = 24\n",
    "Q = quantiles(Y,K)\n",
    "beta = penalty(Y,Q,0.01)\n",
    "n = len(Y)\n",
    "R = list(range(n))\n",
    "g = npConditional(Y,Q)"
   ]
  },
  {
   "cell_type": "code",
   "execution_count": 49,
   "id": "c1cda699",
   "metadata": {},
   "outputs": [
    {
     "data": {
      "text/plain": [
       "26.518121592815238"
      ]
     },
     "execution_count": 49,
     "metadata": {},
     "output_type": "execute_result"
    }
   ],
   "source": [
    "beta"
   ]
  },
  {
   "cell_type": "code",
   "execution_count": 50,
   "id": "c316b9e6",
   "metadata": {},
   "outputs": [],
   "source": [
    "res = pelt(g,R,beta)"
   ]
  },
  {
   "cell_type": "code",
   "execution_count": 51,
   "id": "d38412fe",
   "metadata": {},
   "outputs": [
    {
     "data": {
      "text/plain": [
       "[202, 0]"
      ]
     },
     "execution_count": 51,
     "metadata": {},
     "output_type": "execute_result"
    }
   ],
   "source": [
    "changepoints(res)"
   ]
  },
  {
   "cell_type": "code",
   "execution_count": null,
   "id": "7d4e3f57",
   "metadata": {},
   "outputs": [],
   "source": [
    "Hi James\n",
    "\n",
    "Hope you are keeping well.\n",
    "\n",
    "Please find attached your feedback and marks for the STOR-601 Interfacing R and C++ assessment. If you have any questions regarding the feedback then do please get in touch.\n",
    "\n",
    "\n",
    "Looking forward to working with you during your PhD programme.\n",
    "\n",
    "Best wishes,\n",
    "\n",
    "Dan"
   ]
  },
  {
   "cell_type": "code",
   "execution_count": 139,
   "id": "46a54f8c",
   "metadata": {},
   "outputs": [],
   "source": [
    "class sop :\n",
    "    class functor :\n",
    "        def __init__(self) :\n",
    "            self.D = {}\n",
    "        def add(self,x,y) :\n",
    "            self.D[x] = y\n",
    "        def __call__(self,*arg) :\n",
    "            _,x = arg\n",
    "            return self.D[x]\n",
    "    def __init__(self) :\n",
    "        self.f = sop.functor()\n",
    "        self.T = []\n",
    "        self.ra = None\n",
    "        self.segmentation = {}\n",
    "        self.cost = 0\n",
    "        self.beta = 0\n",
    "    def update(self,g,R,beta,prune = False) :\n",
    "        if self.ra == None :\n",
    "            self.ra = min(R)\n",
    "        for r in R : \n",
    "            self.f.add(r,self.cost + self.beta)\n",
    "            self.beta = beta\n",
    "            self.T.append(r)\n",
    "            if prune :\n",
    "                self.T = [t for t in self.T if self.f(self.ra,t) + g(t,r) <= self.f(self.ra,r) + beta]\n",
    "            index,self.cost = split(self.f,g,self.T)\n",
    "            self.segmentation[r] = (index,self.cost)\n",
    "        \n",
    "        \n",
    "            \n",
    "        \n",
    "            \n",
    "    "
   ]
  },
  {
   "cell_type": "code",
   "execution_count": 62,
   "id": "d1d4483b",
   "metadata": {},
   "outputs": [
    {
     "data": {
      "image/png": "[encoded data removed]",
      "text/plain": [
       "<Figure size 640x480 with 1 Axes>"
      ]
     },
     "metadata": {},
     "output_type": "display_data"
    }
   ],
   "source": [
    "X = [0.0 for i in range(1000)] + [1.0 for i in range(1000)] + [0.0 for i in range(1000)]\n",
    "E = norm.rvs(size=len(X))\n",
    "Z = [x+e for x,e in zip(X,E)]\n",
    "mu = mean(Z)\n",
    "sigma = sqrt(variance(Z))\n",
    "Z = [(z-mu)/sigma for z in Z]\n",
    "plt.plot(Z)\n",
    "plt.show()"
   ]
  },
  {
   "cell_type": "code",
   "execution_count": 148,
   "id": "c2652342",
   "metadata": {},
   "outputs": [],
   "source": [
    "opt = sop()"
   ]
  },
  {
   "cell_type": "code",
   "execution_count": 65,
   "id": "d0cbb504",
   "metadata": {},
   "outputs": [],
   "source": [
    "g = normal_mean(Z)\n",
    "beta = 2*log(len(Z))"
   ]
  },
  {
   "cell_type": "code",
   "execution_count": 149,
   "id": "4281ac00",
   "metadata": {},
   "outputs": [],
   "source": [
    "opt.update(g,[0],beta,True)"
   ]
  },
  {
   "cell_type": "code",
   "execution_count": 102,
   "id": "aae60941",
   "metadata": {},
   "outputs": [
    {
     "data": {
      "text/plain": [
       "[0]"
      ]
     },
     "execution_count": 102,
     "metadata": {},
     "output_type": "execute_result"
    }
   ],
   "source": [
    "opt.T"
   ]
  },
  {
   "cell_type": "code",
   "execution_count": 103,
   "id": "9f4778e3",
   "metadata": {},
   "outputs": [
    {
     "data": {
      "text/plain": [
       "{0: (0, 0.0)}"
      ]
     },
     "execution_count": 103,
     "metadata": {},
     "output_type": "execute_result"
    }
   ],
   "source": [
    "opt.segmentation"
   ]
  },
  {
   "cell_type": "code",
   "execution_count": 150,
   "id": "60232b77",
   "metadata": {},
   "outputs": [],
   "source": [
    "opt.update(g,list(range(1,1050)),beta,True)"
   ]
  },
  {
   "cell_type": "code",
   "execution_count": 143,
   "id": "537438c2",
   "metadata": {},
   "outputs": [
    {
     "data": {
      "text/plain": [
       "[1010, 0]"
      ]
     },
     "execution_count": 143,
     "metadata": {},
     "output_type": "execute_result"
    }
   ],
   "source": [
    "changepoints(opt.segmentation)"
   ]
  },
  {
   "cell_type": "code",
   "execution_count": 151,
   "id": "34d8618b",
   "metadata": {},
   "outputs": [],
   "source": [
    "opt.update(g,list(range(1050,2100)),beta,True)"
   ]
  },
  {
   "cell_type": "code",
   "execution_count": 152,
   "id": "267ad546",
   "metadata": {},
   "outputs": [
    {
     "data": {
      "text/plain": [
       "[2006, 1010, 0]"
      ]
     },
     "execution_count": 152,
     "metadata": {},
     "output_type": "execute_result"
    }
   ],
   "source": [
    "changepoints(opt.segmentation)"
   ]
  },
  {
   "cell_type": "code",
   "execution_count": 153,
   "id": "566ffe60",
   "metadata": {},
   "outputs": [
    {
     "data": {
      "text/plain": [
       "[1832,\n",
       " 1833,\n",
       " 1834,\n",
       " 1873,\n",
       " 1876,\n",
       " 1877,\n",
       " 1878,\n",
       " 1879,\n",
       " 1880,\n",
       " 1882,\n",
       " 1883,\n",
       " 1884,\n",
       " 1885,\n",
       " 1886,\n",
       " 1887,\n",
       " 1888,\n",
       " 1890,\n",
       " 1891,\n",
       " 1892,\n",
       " 1893,\n",
       " 1894,\n",
       " 1895,\n",
       " 1896,\n",
       " 1897,\n",
       " 1898,\n",
       " 1899,\n",
       " 1900,\n",
       " 1901,\n",
       " 1902,\n",
       " 1903,\n",
       " 1904,\n",
       " 1905,\n",
       " 1906,\n",
       " 1907,\n",
       " 1908,\n",
       " 1909,\n",
       " 1910,\n",
       " 1911,\n",
       " 1912,\n",
       " 1913,\n",
       " 1914,\n",
       " 1915,\n",
       " 1916,\n",
       " 1917,\n",
       " 1918,\n",
       " 1919,\n",
       " 1920,\n",
       " 1921,\n",
       " 1922,\n",
       " 1923,\n",
       " 1924,\n",
       " 1925,\n",
       " 1926,\n",
       " 1927,\n",
       " 1928,\n",
       " 1929,\n",
       " 1930,\n",
       " 1931,\n",
       " 1932,\n",
       " 1933,\n",
       " 1934,\n",
       " 1935,\n",
       " 1936,\n",
       " 1937,\n",
       " 1938,\n",
       " 1939,\n",
       " 1940,\n",
       " 1941,\n",
       " 1942,\n",
       " 1943,\n",
       " 1944,\n",
       " 1945,\n",
       " 1946,\n",
       " 1947,\n",
       " 1948,\n",
       " 1949,\n",
       " 1950,\n",
       " 1951,\n",
       " 1952,\n",
       " 1953,\n",
       " 1954,\n",
       " 1955,\n",
       " 1956,\n",
       " 1957,\n",
       " 1958,\n",
       " 1959,\n",
       " 1960,\n",
       " 1961,\n",
       " 1962,\n",
       " 1963,\n",
       " 1964,\n",
       " 1965,\n",
       " 1966,\n",
       " 1967,\n",
       " 1968,\n",
       " 1969,\n",
       " 1970,\n",
       " 1971,\n",
       " 1972,\n",
       " 1973,\n",
       " 1974,\n",
       " 1975,\n",
       " 1976,\n",
       " 1977,\n",
       " 1978,\n",
       " 1979,\n",
       " 1980,\n",
       " 1981,\n",
       " 1982,\n",
       " 1983,\n",
       " 1984,\n",
       " 1985,\n",
       " 1986,\n",
       " 1987,\n",
       " 1988,\n",
       " 1989,\n",
       " 1990,\n",
       " 1991,\n",
       " 1992,\n",
       " 1993,\n",
       " 1994,\n",
       " 1995,\n",
       " 1996,\n",
       " 1997,\n",
       " 1998,\n",
       " 1999,\n",
       " 2000,\n",
       " 2001,\n",
       " 2002,\n",
       " 2003,\n",
       " 2004,\n",
       " 2005,\n",
       " 2006,\n",
       " 2007,\n",
       " 2008,\n",
       " 2009,\n",
       " 2010,\n",
       " 2011,\n",
       " 2012,\n",
       " 2013,\n",
       " 2014,\n",
       " 2015,\n",
       " 2016,\n",
       " 2017,\n",
       " 2018,\n",
       " 2019,\n",
       " 2020,\n",
       " 2021,\n",
       " 2022,\n",
       " 2023,\n",
       " 2024,\n",
       " 2025,\n",
       " 2026,\n",
       " 2027,\n",
       " 2028,\n",
       " 2029,\n",
       " 2030,\n",
       " 2031,\n",
       " 2032,\n",
       " 2033,\n",
       " 2034,\n",
       " 2035,\n",
       " 2036,\n",
       " 2037,\n",
       " 2038,\n",
       " 2039,\n",
       " 2040,\n",
       " 2041,\n",
       " 2042,\n",
       " 2043,\n",
       " 2044,\n",
       " 2045,\n",
       " 2046,\n",
       " 2047,\n",
       " 2048,\n",
       " 2049,\n",
       " 2050,\n",
       " 2051,\n",
       " 2052,\n",
       " 2053,\n",
       " 2054,\n",
       " 2055,\n",
       " 2056,\n",
       " 2057,\n",
       " 2058,\n",
       " 2059,\n",
       " 2060,\n",
       " 2061,\n",
       " 2062,\n",
       " 2063,\n",
       " 2064,\n",
       " 2065,\n",
       " 2066,\n",
       " 2067,\n",
       " 2068,\n",
       " 2069,\n",
       " 2070,\n",
       " 2071,\n",
       " 2072,\n",
       " 2073,\n",
       " 2074,\n",
       " 2075,\n",
       " 2076,\n",
       " 2077,\n",
       " 2078,\n",
       " 2079,\n",
       " 2080,\n",
       " 2081,\n",
       " 2082,\n",
       " 2083,\n",
       " 2084,\n",
       " 2085,\n",
       " 2086,\n",
       " 2087,\n",
       " 2088,\n",
       " 2089,\n",
       " 2090,\n",
       " 2091,\n",
       " 2092,\n",
       " 2093,\n",
       " 2094,\n",
       " 2095,\n",
       " 2096,\n",
       " 2097,\n",
       " 2098,\n",
       " 2099]"
      ]
     },
     "execution_count": 153,
     "metadata": {},
     "output_type": "execute_result"
    }
   ],
   "source": [
    "opt.T"
   ]
  },
  {
   "cell_type": "code",
   "execution_count": 154,
   "id": "4aa08773",
   "metadata": {},
   "outputs": [],
   "source": [
    "opt.update(g,list(range(2100,3000)),beta,True)"
   ]
  },
  {
   "cell_type": "code",
   "execution_count": 155,
   "id": "de07e7cd",
   "metadata": {},
   "outputs": [
    {
     "data": {
      "text/plain": [
       "[2006, 1010, 0]"
      ]
     },
     "execution_count": 155,
     "metadata": {},
     "output_type": "execute_result"
    }
   ],
   "source": [
    "changepoints(opt.segmentation)"
   ]
  },
  {
   "cell_type": "code",
   "execution_count": 95,
   "id": "94474c16",
   "metadata": {},
   "outputs": [],
   "source": [
    "res = op(g,list(range(3000)),beta)"
   ]
  },
  {
   "cell_type": "code",
   "execution_count": 133,
   "id": "6f35e3f2",
   "metadata": {},
   "outputs": [
    {
     "data": {
      "text/plain": [
       "[2006, 1010, 0]"
      ]
     },
     "execution_count": 133,
     "metadata": {},
     "output_type": "execute_result"
    }
   ],
   "source": [
    "changepoints(res,2040)"
   ]
  },
  {
   "cell_type": "code",
   "execution_count": null,
   "id": "7beaddf2",
   "metadata": {},
   "outputs": [],
   "source": []
  },
  {
   "cell_type": "code",
   "execution_count": null,
   "id": "5705812f",
   "metadata": {},
   "outputs": [],
   "source": []
  },
  {
   "cell_type": "code",
   "execution_count": null,
   "id": "9eedf263",
   "metadata": {},
   "outputs": [],
   "source": []
  },
  {
   "cell_type": "markdown",
   "id": "68e78605",
   "metadata": {},
   "source": [
    "$f \\leftarrow f \\cup \\{(x,y)\\}$"
   ]
  },
  {
   "cell_type": "markdown",
   "id": "8d616306",
   "metadata": {},
   "source": [
    "## References"
   ]
  },
  {
   "cell_type": "markdown",
   "id": "1727acba",
   "metadata": {},
   "source": [
    "[1] _An Algorithm for Optimal Partitioning of\n",
    "Data on an Interval_ \\\n",
    "Brad Jackson, Jeffrey D. Scargle, David Barnes, Sundararajan Arabhi, Alina Alt, Peter Gioumousis, Elyus Gwin,\n",
    "Paungkaew Sangtrakulcharoen, Linda Tan, and Tun Tao Tsai 2003  \\\n",
    "**arXiv:math/0309285** \n"
   ]
  }
 ],
 "metadata": {
  "kernelspec": {
   "display_name": "Python 3 (ipykernel)",
   "language": "python",
   "name": "python3"
  },
  "language_info": {
   "codemirror_mode": {
    "name": "ipython",
    "version": 3
   },
   "file_extension": ".py",
   "mimetype": "text/x-python",
   "name": "python",
   "nbconvert_exporter": "python",
   "pygments_lexer": "ipython3",
   "version": "3.9.9"
  }
 },
 "nbformat": 4,
 "nbformat_minor": 5
}
